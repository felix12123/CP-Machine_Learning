{
  "cells": [
    {
      "cell_type": "code",
      "execution_count": 2,
      "metadata": {
        "id": "bX00wg_24_MX"
      },
      "outputs": [],
      "source": [
        "import numpy as np\n",
        "from sklearn import datasets\n",
        "# import matplotlib.pyplot as plt"
      ]
    },
    {
      "cell_type": "markdown",
      "metadata": {},
      "source": [
        "---\n",
        "## Datenauszug: Trainingsdaten und Kontrolldaten"
      ]
    },
    {
      "cell_type": "code",
      "execution_count": 3,
      "metadata": {
        "id": "-rR6vwnl9juJ"
      },
      "outputs": [],
      "source": [
        "# we are going to classify a popular breast cancer dataset\n",
        "data, target = datasets.load_breast_cancer(return_X_y=True)"
      ]
    },
    {
      "cell_type": "markdown",
      "metadata": {},
      "source": [
        "---\n",
        "## Shape der Daten ausgeben"
      ]
    },
    {
      "cell_type": "code",
      "execution_count": 4,
      "metadata": {
        "colab": {
          "base_uri": "https://localhost:8080/"
        },
        "id": "-QQxbG2W9vbm",
        "outputId": "33859a6e-1431-4951-8021-1e928e7c80d1"
      },
      "outputs": [
        {
          "data": {
            "text/plain": [
              "(569, 30)"
            ]
          },
          "execution_count": 4,
          "metadata": {},
          "output_type": "execute_result"
        }
      ],
      "source": [
        "data.shape\n",
        "# data is a matrix of shape (569, 30)"
      ]
    },
    {
      "cell_type": "markdown",
      "metadata": {},
      "source": [
        "---\n",
        "## Sneakpeak der Target-Daten"
      ]
    },
    {
      "cell_type": "code",
      "execution_count": 5,
      "metadata": {
        "colab": {
          "base_uri": "https://localhost:8080/"
        },
        "id": "kzA2fNFO9wOU",
        "outputId": "f58529b6-7d50-4fe2-8856-c62bd01a76a1"
      },
      "outputs": [
        {
          "data": {
            "text/plain": [
              "array([0, 0, 0, 0, 0, 0, 0, 0, 0, 0, 0, 0, 0, 0, 0, 0, 0, 0, 0, 1])"
            ]
          },
          "execution_count": 5,
          "metadata": {},
          "output_type": "execute_result"
        }
      ],
      "source": [
        "# target is a binary vector of size (569,) in which each entry is the label of\n",
        "# each case, either malignant (0) or benign (1).\n",
        "target[:20]"
      ]
    },
    {
      "cell_type": "markdown",
      "metadata": {},
      "source": [
        "---\n",
        "## Bearbeite Daten: 30 -> 2 Features"
      ]
    },
    {
      "cell_type": "code",
      "execution_count": 6,
      "metadata": {
        "id": "IgxzrysCAcJ6"
      },
      "outputs": [],
      "source": [
        "# for simplicity we cut the number of features from 30 to just two features\n",
        "data = data[:, :2]"
      ]
    },
    {
      "cell_type": "markdown",
      "metadata": {},
      "source": [
        "---\n",
        "## Aufgabe 1.1\n",
        "\n",
        "Es wird ein Klassifizierer nach dem Vorbild aus der Übung geschrieben, welcher basierend auf zwei Datenpunkten entschiedet, ob eine Person Krebs hat oder nicht. Diese Vorhersage wird daraufhin durch eine Accuracy-Funktion qualitativ bewertet."
      ]
    },
    {
      "cell_type": "code",
      "execution_count": 48,
      "metadata": {},
      "outputs": [
        {
          "name": "stdout",
          "output_type": "stream",
          "text": [
            "Übereinstimmung der Prediction in %: 0.7701342281879194\n",
            "\n",
            "Die Geradengleichung lautet: -10x+3y+100\n"
          ]
        }
      ],
      "source": [
        "# Meine Test-Weights:\n",
        "test_weights = [-10,3,100]\n",
        "\n",
        "\n",
        "\n",
        "# Funktion, welche zu einem gegebenen Datensatz ein Array der Dimension len(datensatz)x1 berechnet.\n",
        "# Das Arrays ist eine Vorhersage/Zuordnung des Klassifizierers der gegebene Daten.\n",
        "def classifier_scores(data, weights):\n",
        "\n",
        "    classified = [0] * len(data)\n",
        "\n",
        "    for i in range(0,len(data)):\n",
        "        classified[i] = weights[0]*data[i,0] + weights[1]*data[i,1] + weights[2]\n",
        "\n",
        "    return classified\n",
        "\n",
        "\n",
        "\n",
        "# Diese Funktion gibt an, wie genau die Scores bzgl. der gegebenen Target-Daten sind:\n",
        "def accuracy(scores, targets, weights):\n",
        "\n",
        "    # Zähler für korrekte Vorhersagen:\n",
        "    correct = 0\n",
        "\n",
        "    # Schreibe scores so, dass ein Vgl. mit den Target-Daten einfacher ist:\n",
        "    for i in range(0, len(scores)):\n",
        "        if scores[i] <= 0.5:\n",
        "            scores[i] = 0\n",
        "        else:\n",
        "            scores[i] = 1\n",
        "\n",
        "    # Vgl. zwischen Vorhersagen und Target-Daten:\n",
        "    for i in range(0,len(scores)):\n",
        "        if scores[i] == targets[i]:\n",
        "            correct += 1\n",
        "\n",
        "    # Konsolenausgabe:\n",
        "    print(\"Übereinstimmung der Prediction in %: \" + str(correct/596))\n",
        "    print(\"\\nDie Geradengleichung lautet: \" + str(round(weights[0], 3)) + \"x+\" + str(round(weights[1], 3)) + \"y+\" + str(round(weights[2], 3)))\n",
        "\n",
        "    # Gebe Ergebnis aus:\n",
        "    return correct/596\n",
        "\n",
        "# Resultate aus meinen Test-Weights\n",
        "test_scores   = classifier_scores(data, test_weights)\n",
        "test_accuracy = accuracy(test_scores, target, test_weights)"
      ]
    },
    {
      "cell_type": "markdown",
      "metadata": {},
      "source": [
        "---\n",
        "## Aufgabe 1.2\n",
        "\n",
        "Die Lossfunktion ist gegeben durch:\n",
        "\n",
        "$$l=(t-tp)^2=(t-w_1f_1-w_2f_2-w_3)^2$$\n",
        "\n",
        "In Python ist f1 = data[i][0] und f2 = data[i][1]. Die Gewcihte w_i sind gegeben durch w_1 = w[0], w_2 = w[1], und w_3 = w[2]: \n",
        "\n",
        "$$l = \\frac{1}{N} \\sum_{i=0}^{N-1} (t[i] - w[0]d[i][0] - w[0]d[i][1] - w[2])^2$$\n",
        "$$l = \\frac{1}{N} \\sum_{i=0}^{N-1} (t_i -w_1f_1 - w_2f_2 - w_3)^2$$\n",
        "\n",
        "Um gradient descent anzuwenden, müssen zunächst alle Ableitungen berechnet werden:\n",
        "\n",
        "1) Ableitung nach w_1\n",
        "\n",
        "$$\\frac{\\partial l}{\\partial w[0]} = \\frac{1}{N} \\sum_{i=0}^{N-1} -2d[i][0](t[i] - w[0]d[i][0] - w[0]d[i][1] - w[2])$$\n",
        "$$\\frac{\\partial l}{\\partial w_1} = \\frac{1}{N} \\sum_{i=0}^{N-1} -2f_1(t_i - -w_1f_1 - w_2f_2 - w_3)$$\n",
        "\n",
        "2) Ableitung nach w_2\n",
        "\n",
        "$$\\frac{\\partial l}{\\partial w[1]} = \\frac{1}{N} \\sum_{i=0}^{N-1} - 2d[i][1](t[i] - w[0]d[i][0] - w[0]d[i][1] - w[2])$$\n",
        "$$\\frac{\\partial l}{\\partial w_2} = \\frac{1}{N} \\sum_{i=0}^{N-1} - 2f_2(t_i - -w_1f_1 - w_2f_2 - w_3)$$\n",
        "\n",
        "3) Ableitung nach w_3 \n",
        "\n",
        "$$\\frac{\\partial l}{\\partial w[2]} = \\frac{1}{N} \\sum_{i=0}^{N-1} -2(t[i] - w[0]d[i][0] - w[0]d[i][1] - w[2])$$\n",
        "$$\\frac{\\partial l}{\\partial w_3} = \\frac{1}{N} \\sum_{i=0}^{N-1} - 2(t_i - -w_1f_1 - w_2f_2 - w_3)$$\n",
        "\n",
        "Wir rechnen mit 1000 Epochen.\n",
        "\n",
        "Wir rechnen mit einer Learning-Rate von 0.001"
      ]
    },
    {
      "cell_type": "code",
      "execution_count": 49,
      "metadata": {},
      "outputs": [
        {
          "name": "stdout",
          "output_type": "stream",
          "text": [
            "[-35.87346098404238, -10.120059050581045, 719.0773286466376]\n",
            "Übereinstimmung der Prediction in %: 0.8523489932885906\n",
            "\n",
            "Die Geradengleichung lautet: -35.873x+-10.12y+719.077\n"
          ]
        }
      ],
      "source": [
        "# Implementation gradient descent für unser Beispiel\n",
        "def gradient_descent(d, t):\n",
        "\n",
        "    # Lege Epochen und Learning-Rate fest:\n",
        "    epochs        = 10000\n",
        "    learning_rate = 0.01\n",
        "\n",
        "    # Startwerte für die Parameter sowie deren Änderung per default = 0 bei gradient descent:\n",
        "    w  = [0, 0, 0]\n",
        "    dw = [0, 0, 0]\n",
        "\n",
        "    # Um unnötige Aufrufe der len() Funktionzu vermeiden:\n",
        "    N = len(d)\n",
        "\n",
        "    for i in range(0, epochs):\n",
        "        \n",
        "        # Berechne den Gradienten => Sprich für jede Zeile der d-Matrix die dazugehörigen partiellen Ableitungen\n",
        "        for i in range(0, N):\n",
        "\n",
        "            # Um redundante Berechnungen zu vermeiden:\n",
        "            cond = w[0]*d[i][0] + w[1]*d[i][1] + w[2]\n",
        "            mult = 0\n",
        "            if cond < 0.5:\n",
        "                mult = t[i] \n",
        "            else:\n",
        "                mult = t[i] - 1\n",
        "            \n",
        "            # dl_d(w0):\n",
        "            dw[0] += -2*d[i][0] * mult/N\n",
        "            # dl_d(w1):\n",
        "            dw[1] += -2*d[i][1] * mult/N\n",
        "            # dl_d(w2):\n",
        "            dw[2] += -2 * mult/N\n",
        "\n",
        "        # Update die Parameter gemäß der Learning-Rate am Ende einer Epoche:\n",
        "        for i in range(0, 3):\n",
        "            w[i] -= learning_rate * dw[i]\n",
        "\n",
        "    # Gebe die gefundenen Parameter aus:\n",
        "    return w\n",
        "\n",
        "\n",
        "\n",
        "# Anwendung\n",
        "results = gradient_descent(data, target)\n",
        "print(results)\n",
        "\n",
        "# Auswertung\n",
        "scores = classifier_scores(data, results)\n",
        "acc    = accuracy(scores, target, results)"
      ]
    },
    {
      "cell_type": "markdown",
      "metadata": {},
      "source": [
        "---\n",
        "## GitHub\n",
        "\n",
        "Nachfolgend der GitHub Link zum Repo für diesen Praktikumsversuch. Dort sind folgende Unterlagen hinterlegt:\n",
        "\n",
        "- JULIA Implementation der Lösungen zu den Aufgaben\n",
        "- Jupyter Notebook Implementation der Lösungen zu den Aufgaben\n",
        "\n",
        "https://github.com/felix12123/CP-Machine_Learning"
      ]
    }
  ],
  "metadata": {
    "colab": {
      "name": "01_linear_classification.ipynb",
      "provenance": []
    },
    "kernelspec": {
      "display_name": "Python 3",
      "name": "python3"
    },
    "language_info": {
      "codemirror_mode": {
        "name": "ipython",
        "version": 3
      },
      "file_extension": ".py",
      "mimetype": "text/x-python",
      "name": "python",
      "nbconvert_exporter": "python",
      "pygments_lexer": "ipython3",
      "version": "3.11.5"
    }
  },
  "nbformat": 4,
  "nbformat_minor": 0
}
